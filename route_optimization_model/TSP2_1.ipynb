{
 "cells": [
  {
   "cell_type": "code",
   "execution_count": 2,
   "metadata": {},
   "outputs": [
    {
     "data": {
      "text/plain": [
       "' {\\n        \"id\":\"5\",\\n        \"address\":\"333 North Bridge Rd, Singapore 188721\",\\n        \"route_order\":\"6\",\\n    },\\n    {\\n        \"id\":\"6\",\\n        \"address\":\"232 Bain St, Singapore 180232\",\\n        \"route_order\":\"7\",\\n    },\\n    #change to \\n        {\\n        \"id\":\"6\",\\n        \"address\":\"Lee Kong Chian School of Business, Singapore\",\\n        \"route_order\":\"7\",\\n    },\\n    \\n    {\\n        \"id\":\"7\",\\n        \"address\":\"331 North Bridge Rd, Singapore 188720\",\\n        \"route_order\":\"8\",\\n    },\\n\\n    {\\n        \"id\":\"9\",\\n        \"address\":\"30 Victoria St, Singapore 187996\",\\n        \"route_order\":\"9\",\\n    },\\n\\n    {\\n        \"id\":\"1\",\\n        \"address\":\"81 Victoria St, Singapore 188065\",\\n        \"route_order\":\"10\",\\n    },'"
      ]
     },
     "execution_count": 2,
     "metadata": {},
     "output_type": "execute_result"
    }
   ],
   "source": [
    "\"\"\"Simple travelling salesman problem between cities.\"\"\"\n",
    "\"Delivery ID, adress name, how far\"\n",
    "#Traveling Salesman Problem https://developers.google.com/optimization/routing/tsp\n",
    "#Distance Matrix API https://developers.google.com/maps/documentation/distance-matrix/start?hl=ja\n",
    "\n",
    "\"\"\" \"destination_addresses\": [\n",
    "\"250 North Bridge Rd, Singapore 179101\",　＃Changed adresss\n",
    "\"333 North Bridge Rd, Singapore 188721\",\n",
    "→ 34-35 Seah St, Singapore 188391 | 1.295964, 103.854956\n",
    "\"232 Bain St, Singapore 180232\",\n",
    "\"331 North Bridge Rd, Singapore 188720\",\n",
    "\"30 Victoria St, Singapore 187996\"\n",
    "],\n",
    "\"origin_addresses\": [\n",
    "\"81 Victoria St, Singapore 188065\"\n",
    ",\"\"\"\n",
    "\n",
    "# this is kiosk adress: 251 North Bridge Rd, Singapore"
   ]
  },
  {
   "cell_type": "code",
   "execution_count": 3,
   "metadata": {},
   "outputs": [
    {
     "name": "stdout",
     "output_type": "stream",
     "text": [
      "Objective: 2244 miles\n",
      "Route for vehicle 0:\n",
      " 0 -> 2 -> 3 -> 4 -> 5 -> 1 -> 0\n",
      "\n"
     ]
    }
   ],
   "source": [
    "from __future__ import print_function\n",
    "from ortools.constraint_solver import routing_enums_pb2\n",
    "from ortools.constraint_solver import pywrapcp\n",
    "\n",
    "\n",
    "\n",
    "def create_data_model():\n",
    "    \"\"\"Stores the data for the problem.\"\"\"\n",
    "    data = {}\n",
    "\n",
    "    data['distance_matrix'] = [\n",
    "        [0, 829, 837, 875, 875, 875], #81 Victoria St, Singapore 188065\n",
    "        [669, 0, 1677, 1356, 1356, 892], #250 North Bridge Rd, Singapore 179101\n",
    "        [1074, 439, 0, 253, 254, 572], #34-35 Seah St, Singapore 188391 \n",
    "        [1120, 485, 838, 0, 0, 319], #232 Bain St, Singapore 180232\n",
    "        [1119, 485, 837, 1090, 0, 319], #331 North Bridge Rd, Singapore 188720\n",
    "        [800, 166, 518, 772, 772, 0], #30 Victoria St, Singapore 187996\n",
    "\n",
    "\n",
    "    ]  # yapf: disable\n",
    "    \n",
    "    data['num_vehicles'] = 1\n",
    "    data['depot'] = 0\n",
    "    return data\n",
    "\n",
    "\n",
    "def print_solution(manager, routing, solution):\n",
    "    \"\"\"Prints solution on console.\"\"\"\n",
    "    print('Objective: {} miles'.format(solution.ObjectiveValue()))\n",
    "    index = routing.Start(0)\n",
    "    plan_output = 'Route for vehicle 0:\\n'\n",
    "    route_distance = 0\n",
    "    while not routing.IsEnd(index):\n",
    "        plan_output += ' {} ->'.format(manager.IndexToNode(index))\n",
    "        previous_index = index\n",
    "        index = solution.Value(routing.NextVar(index))\n",
    "        route_distance += routing.GetArcCostForVehicle(previous_index, index, 0)\n",
    "    plan_output += ' {}\\n'.format(manager.IndexToNode(index))\n",
    "    print(plan_output)\n",
    "    plan_output += 'Route distance: {}miles\\n'.format(route_distance)\n",
    "\n",
    "\n",
    "def main():\n",
    "    \"\"\"Entry point of the program.\"\"\"\n",
    "    # Instantiate the data problem.\n",
    "    data = create_data_model()\n",
    "\n",
    "    # Create the routing index manager.\n",
    "    manager = pywrapcp.RoutingIndexManager(len(data['distance_matrix']),\n",
    "                                           data['num_vehicles'], data['depot'])\n",
    "\n",
    "    # Create Routing Model.\n",
    "    routing = pywrapcp.RoutingModel(manager)\n",
    "\n",
    "\n",
    "    def distance_callback(from_index, to_index):\n",
    "        \"\"\"Returns the distance between the two nodes.\"\"\"\n",
    "        # Convert from routing variable Index to distance matrix NodeIndex.\n",
    "        from_node = manager.IndexToNode(from_index)\n",
    "        to_node = manager.IndexToNode(to_index)\n",
    "        return data['distance_matrix'][from_node][to_node]\n",
    "\n",
    "    transit_callback_index = routing.RegisterTransitCallback(distance_callback)\n",
    "\n",
    "    # Define cost of each arc.\n",
    "    routing.SetArcCostEvaluatorOfAllVehicles(transit_callback_index)\n",
    "\n",
    "    # Setting first solution heuristic.\n",
    "    search_parameters = pywrapcp.DefaultRoutingSearchParameters()\n",
    "    search_parameters.first_solution_strategy = (\n",
    "        routing_enums_pb2.FirstSolutionStrategy.PATH_CHEAPEST_ARC)\n",
    "\n",
    "    # Solve the problem.\n",
    "    solution = routing.SolveWithParameters(search_parameters)\n",
    "\n",
    "    # Print solution on console.\n",
    "    if solution:\n",
    "        print_solution(manager, routing, solution)\n",
    "\n",
    "\n",
    "if __name__ == '__main__':\n",
    "    main()"
   ]
  },
  {
   "cell_type": "code",
   "execution_count": null,
   "metadata": {},
   "outputs": [],
   "source": [
    "\"\"\"\n",
    "0. 81 Victoria St, Singapore 188065\n",
    "1. 250 North Bridge Rd, Singapore 179101\n",
    "2. 34-35 Seah St, Singapore 188391 \n",
    "3. 232 Bain St, Singapore 180232\n",
    "4. 331 North Bridge Rd, Singapore 188720\n",
    "5. 30 Victoria St, Singapore 187996\n",
    "\"\"\""
   ]
  }
 ],
 "metadata": {
  "kernelspec": {
   "display_name": "Python 3",
   "language": "python",
   "name": "python3"
  },
  "language_info": {
   "codemirror_mode": {
    "name": "ipython",
    "version": 3
   },
   "file_extension": ".py",
   "mimetype": "text/x-python",
   "name": "python",
   "nbconvert_exporter": "python",
   "pygments_lexer": "ipython3",
   "version": "3.7.4"
  }
 },
 "nbformat": 4,
 "nbformat_minor": 4
}
